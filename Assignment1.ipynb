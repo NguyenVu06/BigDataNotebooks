{
 "cells": [
  {
   "cell_type": "markdown",
   "metadata": {
    "colab_type": "text",
    "id": "dq0LqCJMfYe8"
   },
   "source": [
    "# Assignment 1 Workbook\n",
    "   "
   ]
  },
  {
   "cell_type": "markdown",
   "metadata": {
    "colab_type": "text",
    "id": "TVcqbt4DfYe_"
   },
   "source": [
    "Load data from the cloud"
   ]
  },
  {
   "cell_type": "code",
   "execution_count": null,
   "metadata": {
    "colab": {},
    "colab_type": "code",
    "id": "LmxLySb20jtX"
   },
   "outputs": [],
   "source": [
    "# !apt-get install openjdk-8-jdk-headless -qq > /dev/null\n",
    "# !wget -q http://mirror.cc.columbia.edu/pub/software/apache/spark/spark-3.0.0-preview2/spark-3.0.0-preview2-bin-hadoop2.7.tgz\n",
    "# !tar xf spark-3.0.0-preview2-bin-hadoop2.7.tgz\n",
    "# !pip install -q findspark\n",
    "# !rm -rf spark-3.0.0-preview2-bin-hadoop2.7.tgz"
   ]
  },
  {
   "cell_type": "code",
   "execution_count": 34,
   "metadata": {
    "colab": {},
    "colab_type": "code",
    "id": "Nor9olN20p0M"
   },
   "outputs": [],
   "source": [
    "import os\n",
    "# os.environ[\"JAVA_HOME\"] = \"/usr/lib/jvm/java-8-openjdk-amd64\"\n",
    "# os.environ[\"SPARK_HOME\"] = \"/content/spark-3.0.0-preview2-bin-hadoop2.7\"\n",
    "\n",
    "#import findspark\n",
    "# findspark.init(\"spark-3.0.0-preview2-bin-hadoop2.7\")# SPARK_HOME\n",
    "\n",
    "from pyspark.sql import SparkSession\n",
    "from pyspark import SparkContext\n",
    "\n",
    "spark = SparkSession.builder.master(\"local[*]\").getOrCreate()\n",
    "sc = SparkContext.getOrCreate()"
   ]
  },
  {
   "cell_type": "code",
   "execution_count": null,
   "metadata": {
    "colab": {
     "base_uri": "https://localhost:8080/",
     "height": 119
    },
    "colab_type": "code",
    "id": "SY060QsjT8Wr",
    "outputId": "a85039e0-5341-4ff6-dddf-75a1953f063f"
   },
   "outputs": [],
   "source": [
    "ls -lah"
   ]
  },
  {
   "cell_type": "code",
   "execution_count": null,
   "metadata": {
    "colab": {
     "base_uri": "https://localhost:8080/",
     "height": 119
    },
    "colab_type": "code",
    "id": "OYvYeA5RUImn",
    "outputId": "92c809b5-3a7c-4192-a346-f760c9b4cfd1"
   },
   "outputs": [],
   "source": [
    "!ls -la"
   ]
  },
  {
   "cell_type": "code",
   "execution_count": null,
   "metadata": {
    "colab": {
     "base_uri": "https://localhost:8080/",
     "height": 204
    },
    "colab_type": "code",
    "id": "Ik5qs0pnKC60",
    "outputId": "fad6c105-49ed-4486-d2bc-eb67a185fc63"
   },
   "outputs": [],
   "source": [
    "!install conda install -c anaconda wget\n",
    "!wget https://s3.amazonaws.com/metcs777/taxi-data-sorted-small.csv.bz2"
   ]
  },
  {
   "cell_type": "code",
   "execution_count": null,
   "metadata": {
    "colab": {
     "base_uri": "https://localhost:8080/",
     "height": 34
    },
    "colab_type": "code",
    "id": "acu6srVpfYfH",
    "outputId": "15a350d5-6950-4e52-9ade-c0c68c8b66b7"
   },
   "outputs": [],
   "source": [
    "#check if spark are running\n",
    "\n",
    "print(sc.version)\n"
   ]
  },
  {
   "cell_type": "code",
   "execution_count": 35,
   "metadata": {
    "colab": {},
    "colab_type": "code",
    "id": "gT2D6DuJfYfM"
   },
   "outputs": [],
   "source": [
    "lines = sc.textFile(\"Assignment1_dt/taxi-data-sorted-small.csv.bz2\")\n",
    "taxilines = lines.map(lambda line: line.split(\",\"))"
   ]
  },
  {
   "cell_type": "code",
   "execution_count": null,
   "metadata": {
    "colab": {
     "base_uri": "https://localhost:8080/",
     "height": 54
    },
    "colab_type": "code",
    "id": "w56VdzMEfYfQ",
    "outputId": "11d48f0c-977a-44db-8acd-e72e2fe3bde3"
   },
   "outputs": [],
   "source": [
    "#print first row of the data to make sure it is read in correctly\n",
    "print(taxilines.take(2))"
   ]
  },
  {
   "cell_type": "markdown",
   "metadata": {
    "colab_type": "text",
    "id": "oWUNSZLQfYfW"
   },
   "source": [
    "Use pycode from assignment 1 document to clean up the data loaded"
   ]
  },
  {
   "cell_type": "code",
   "execution_count": 36,
   "metadata": {
    "colab": {},
    "colab_type": "code",
    "id": "56bFmBB0fYfX"
   },
   "outputs": [],
   "source": [
    "#clean up \n",
    "#handling wrong data lines\n",
    "def isfloat(val):\n",
    "    try: \n",
    "        float(val)\n",
    "        return True\n",
    "    except:\n",
    "        return False\n",
    "    \n",
    "#use isFloat to remove lines if they dont have 16 values and a float value !=0 for col 6 and col 12\n",
    "def correctRows(p):\n",
    "    if(len(p)==17):\n",
    "        if(isfloat(p[5]) and isfloat(p[11])):\n",
    "            if(float(p[5])!=0 and float(p[11])!=0):\n",
    "                return p\n",
    "            \n",
    "#go thru each element per row and keep only the correctRows\n",
    "cleanTaxiDT = taxilines.filter(correctRows)"
   ]
  },
  {
   "cell_type": "markdown",
   "metadata": {
    "colab_type": "text",
    "id": "ao7ZkqSTfYfi"
   },
   "source": [
    "### Part1: Top-10 Active Taxis\n",
    "Many different taxis have had multiple drivers. Write and execute a Spark Python program that computes\n",
    "the top ten taxis that have had the largest number of drivers. Your output should be a set of (medallion,\n",
    "number of drivers) pairs\n"
   ]
  },
  {
   "cell_type": "code",
   "execution_count": 37,
   "metadata": {
    "colab": {},
    "colab_type": "code",
    "id": "AvBUCe_ufYfj"
   },
   "outputs": [],
   "source": [
    "#set up each row with an 1 index\n",
    "rdd_1 = cleanTaxiDT.map(lambda x: ((x[0], x[1]), 1))"
   ]
  },
  {
   "cell_type": "code",
   "execution_count": 38,
   "metadata": {
    "colab": {
     "base_uri": "https://localhost:8080/",
     "height": 34
    },
    "colab_type": "code",
    "id": "wDyrz-5ffYfm",
    "outputId": "bcc63e08-380b-4c29-ff71-ee8e7edcbcb6"
   },
   "outputs": [
    {
     "data": {
      "text/plain": [
       "(('07290D3599E7A0D62097A346EFCC1FB5', 'E7750A37CAB07D0DFF0AF7E3573AC141'), 1)"
      ]
     },
     "execution_count": 38,
     "metadata": {},
     "output_type": "execute_result"
    }
   ],
   "source": [
    "rdd_1.first()"
   ]
  },
  {
   "cell_type": "code",
   "execution_count": 39,
   "metadata": {
    "colab": {},
    "colab_type": "code",
    "id": "EVq_pvVlfYfp"
   },
   "outputs": [],
   "source": [
    "#reduce, aggrgate by the combination of taxi and taxi drivers into a list\n",
    "rdd_1_reduce = rdd_1.reduceByKey(lambda x, y: x+y)\n"
   ]
  },
  {
   "cell_type": "code",
   "execution_count": 40,
   "metadata": {
    "colab": {},
    "colab_type": "code",
    "id": "vYRaU5MrfYft"
   },
   "outputs": [],
   "source": [
    "# reduce in RDD to count taxi and most frequently used taxi\n",
    "by_medalionRDD2 = rdd_1_reduce.map(lambda x: (x[0][0],1)).reduceByKey(lambda x, y: x+y)"
   ]
  },
  {
   "cell_type": "code",
   "execution_count": 41,
   "metadata": {
    "colab": {},
    "colab_type": "code",
    "id": "RZjVMIVTfYfv"
   },
   "outputs": [],
   "source": [
    "#return the top 10 most used taxi by the count\n",
    "top10taxi = sc.parallelize(by_medalionRDD2.top(10, lambda x: x[1]))\n",
    "\n",
    "top10taxi.coalesce(1).saveAsTextFile(\"top10Taxi/\")"
   ]
  },
  {
   "cell_type": "markdown",
   "metadata": {
    "colab_type": "text",
    "id": "e5_i58u3fYf4"
   },
   "source": [
    "### Part2: Top-10 Best Drivers\n",
    "We would like to figure out who the top 10 best drivers are in terms of their average earned money per minute spent carrying a customer. The total amount field is the total money earned on a trip. In the end, we\n",
    "are interested in computing a set of (driver, money per minute) pairs"
   ]
  },
  {
   "cell_type": "markdown",
   "metadata": {
    "colab_type": "text",
    "id": "F8eA3mOHCF0O"
   },
   "source": [
    "Create a second clean RDD to remove any rows that contain no value for the minute column and save to cleanTaxiDT2"
   ]
  },
  {
   "cell_type": "code",
   "execution_count": 42,
   "metadata": {
    "colab": {},
    "colab_type": "code",
    "id": "-_ZHanAFojAq"
   },
   "outputs": [],
   "source": [
    "def correctRows2(p):\n",
    "  if(float(p[4]) !=0):\n",
    "    return p\n",
    "cleanTaxiDT2 = cleanTaxiDT.filter(correctRows2)"
   ]
  },
  {
   "cell_type": "code",
   "execution_count": null,
   "metadata": {
    "colab": {
     "base_uri": "https://localhost:8080/",
     "height": 34
    },
    "colab_type": "code",
    "id": "xiTxqgSQBmDd",
    "outputId": "eaf0cbac-8820-4e0a-e647-4ff2db55cc54"
   },
   "outputs": [],
   "source": [
    "# check to see if the cleaned up data contail any zero value for column 5\n",
    "cleanTaxiDT2.filter(lambda x: float(x[4])==0 ).count()"
   ]
  },
  {
   "cell_type": "code",
   "execution_count": 43,
   "metadata": {
    "colab": {},
    "colab_type": "code",
    "id": "pcDeqY6zfYf5"
   },
   "outputs": [],
   "source": [
    "#get a driver rdd and map a function to get the money per minute value\n",
    "by_drvr = cleanTaxiDT2.map(lambda x: (x[1], (float(x[11])/(float(x[4])/60), 1.0)))\n",
    "#aggregate by key=driverID and tke an average using the aggregate byByKey\n",
    "aggfun = lambda x, y: (x[0]+y[0], x[1]+y[1])\n",
    "rateRDD = by_drvr.aggregateByKey((0.0,0.0), aggfun, aggfun)\n",
    "\n",
    "avg_rateRDD = rateRDD.map(lambda x: (x[0], x[1][0]/x[1][1]))\n"
   ]
  },
  {
   "cell_type": "code",
   "execution_count": 44,
   "metadata": {
    "colab": {
     "base_uri": "https://localhost:8080/",
     "height": 185
    },
    "colab_type": "code",
    "id": "QRNuqmzwfYgD",
    "outputId": "a44dfd49-598b-4d83-d600-eb748f45d843"
   },
   "outputs": [],
   "source": [
    "# Get top 10 drivers\n",
    "top10drivers = sc.parallelize(avg_rateRDD.top(10, lambda x: x[1]))\n",
    "top10drivers.coalesce(1).saveAsTextFile(\"top10Drivers/\")"
   ]
  },
  {
   "cell_type": "markdown",
   "metadata": {
    "colab_type": "text",
    "id": "tZ6isU0PJN6L"
   },
   "source": [
    "### Part3: Best Day to Work\n",
    "We would like to know which hour of the day is the best time for drivers that has the highest profit per miles. Consider the surcharge amount in dollar for each taxi ride (without tip amount) and the distance in miles, and sum up the rides for each hour of the day (24 hours) – consider the pickup time for your calculation. The profit ratio is the ration surcharge in dollar divided by the travel distance in miles for each specific time\n",
    "of the day. \n",
    "\n",
    "Profit Ratio = (Surcharge Amount in US Dollar) / (Travel Distance in miles)\n",
    "We are interested to know the time of the day that has the highest profit ratio."
   ]
  },
  {
   "cell_type": "code",
   "execution_count": 45,
   "metadata": {
    "colab": {},
    "colab_type": "code",
    "id": "yW0RJ81ZfYgV"
   },
   "outputs": [],
   "source": [
    "#col index: surcharge=12, Distance=5, pickup datetime=2\n",
    "\n",
    "# get the day out of the datetime column\n",
    "from datetime import datetime"
   ]
  },
  {
   "cell_type": "code",
   "execution_count": 46,
   "metadata": {
    "colab": {},
    "colab_type": "code",
    "id": "S_8J-7X5N_DB"
   },
   "outputs": [],
   "source": [
    "\n",
    "# create a method to extract hour\n",
    "def getHour(x):\n",
    "  dtObj = datetime.strptime(x, '%Y-%m-%d %H:%M:%S')\n",
    "  return dtObj.strftime('%H')\n",
    "\n",
    "#create aRDD with the relevant columns: pick up date, surcharge, distance\n",
    "pt3RDD = cleanTaxiDT.map(lambda x: (getHour(x[2]), (float(x[12]), float(x[5]))))\n",
    "#RDD to contain sum of all surcharge, all distance for each date as key\n",
    "byHourRDD = pt3RDD.reduceByKey(lambda x, y: (x[0]+y[0], x[1]+y[1]))\n",
    "#RDD to produce date and profit ratio by day\n",
    "bestDayRDD = byHourRDD.map(lambda x: (x[0], x[1][0]/x[1][1]))\n",
    "\n"
   ]
  },
  {
   "cell_type": "code",
   "execution_count": 47,
   "metadata": {
    "colab": {
     "base_uri": "https://localhost:8080/",
     "height": 187
    },
    "colab_type": "code",
    "id": "rdadRG-KORSd",
    "outputId": "fac61e66-b459-4b34-858a-56fc296b6269"
   },
   "outputs": [],
   "source": [
    "bestWrkHr = sc.parallelize(bestDayRDD.top(10, lambda x: x[1]))\n",
    "\n",
    "bestWrkHr.coalesce(1).saveAsTextFile(\"top10WorkHours/\")"
   ]
  },
  {
   "cell_type": "code",
   "execution_count": null,
   "metadata": {
    "colab": {},
    "colab_type": "code",
    "id": "vv5Xbq6hOpdd"
   },
   "outputs": [],
   "source": [
    "del byDateRDD\n"
   ]
  },
  {
   "cell_type": "code",
   "execution_count": null,
   "metadata": {
    "colab": {},
    "colab_type": "code",
    "id": "Bof33klTPfoT"
   },
   "outputs": [],
   "source": []
  },
  {
   "cell_type": "code",
   "execution_count": null,
   "metadata": {
    "colab": {},
    "colab_type": "code",
    "id": "P7TkQQ1qUuxO"
   },
   "outputs": [],
   "source": []
  },
  {
   "cell_type": "markdown",
   "metadata": {
    "colab_type": "text",
    "id": "trlcSiumWOVT"
   },
   "source": [
    "### Part4: Bonus \n",
    "How many percent of taxi customers pay with cash and how many percent using electronic cards?\n",
    "Analyze these payment methods for different time of the day and provide a list of percents for each\n",
    "day time? \n",
    "\n",
    "As a result provide two numbers for total percentages and a list like (hour of day, percent paid card) We would like to measure the efficiency of taxis drivers by finding out their average earned money per mile. (Consider the total amount which includes tips, as their earned money) Implement a Spark job\n",
    "that can find out the top-10 efficient taxi divers.\n",
    "\n",
    "\u000fWhat are mean, median, first and third quantiles of tip amount? How do find the median?\n",
    "\u000fUsing the IQR outlier detection method find out the top-10 outliers."
   ]
  },
  {
   "cell_type": "code",
   "execution_count": null,
   "metadata": {
    "colab": {},
    "colab_type": "code",
    "id": "r-FV5H0TWpLj"
   },
   "outputs": [],
   "source": [
    "# cash versus credit\n",
    "# columns: pickup date = 2, payment type = 10\n",
    "\n"
   ]
  }
 ],
 "metadata": {
  "colab": {
   "collapsed_sections": [
    "ao7ZkqSTfYfi"
   ],
   "name": "Assignment1.ipynb",
   "provenance": []
  },
  "kernelspec": {
   "display_name": "Python 3",
   "language": "python",
   "name": "python3"
  },
  "language_info": {
   "codemirror_mode": {
    "name": "ipython",
    "version": 3
   },
   "file_extension": ".py",
   "mimetype": "text/x-python",
   "name": "python",
   "nbconvert_exporter": "python",
   "pygments_lexer": "ipython3",
   "version": "3.7.6"
  }
 },
 "nbformat": 4,
 "nbformat_minor": 1
}
